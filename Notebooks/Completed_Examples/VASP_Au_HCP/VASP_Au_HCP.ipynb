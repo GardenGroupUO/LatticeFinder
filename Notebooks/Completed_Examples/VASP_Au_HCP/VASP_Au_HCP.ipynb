{
 "cells": [
  {
   "cell_type": "markdown",
   "id": "blocked-board",
   "metadata": {},
   "source": [
    "# An example for obtaining the lattice constants of a crystal system with 2 lattice constants using LatticeFinder with VASP Calculations"
   ]
  },
  {
   "cell_type": "markdown",
   "id": "interstate-coral",
   "metadata": {},
   "source": [
    "[Back To Table of Contents](../../LatticeFinder_Jupyter_Example.ipynb)"
   ]
  },
  {
   "cell_type": "markdown",
   "id": "ecological-robinson",
   "metadata": {},
   "source": [
    "In this example, we will be obtaining the lattice constant of a Au hexagonal close packing (HCP) crystal structure using VASP with the PBE functional. Below we will show an example of the *Run_LatticeFinder.py* file use to run LatticeFinder, where all the data has been obtained in the ``lattice_data.txt`` file. \n",
    "\n",
    "To run this notebook step by step, press the $\\blacktriangleright$ button sequentially on the python code you want to run. You can find the $\\blacktriangleright$ button in the menu bar above. Make sure you have run $\\blacktriangleright$ on every cell before running the ``from LatticeFinder import LatticeFinder_Program`` execution cell. Equivalently, press the $\\blacktriangleright\\blacktriangleright$ button to completely run this *Run_LatticeFinder.py* file from beginning to end. You can also find the $\\blacktriangleright\\blacktriangleright$ button in the menu bar above. Jupyter will display a box that will ask you if you want to restart the kernal. Press the <img src=\"../../Images/Restart_button.svg\" alt=\"Restart_Button\" width=\"50\"/> button to run the full Jupyter notebook in Python. \n",
    "\n",
    "Note: These are the vanilla settings for running LatticeFinder on Au, but feel free to change the settings as you wish.\n",
    "\n",
    "Also note: This program makes files which are created and stored on the Binder server. If you want to rerun this example from scratch, you will need to remove these files. The following block code will do this. This is only needed for this notebook and is not apart of *Run_LatticeFinder.py* script."
   ]
  },
  {
   "cell_type": "code",
   "execution_count": null,
   "id": "rental-distribution",
   "metadata": {},
   "outputs": [],
   "source": [
    "import os\n",
    "from shutil import rmtree\n",
    "to_be_removed_before_restarting_Jupyter_example = [file for file in os.listdir('.') if not (file.endswith('.ipynb') or file.startswith('VASP_Files') or file.startswith('lattice_data.txt'))]\n",
    "for example_file_or_folder in to_be_removed_before_restarting_Jupyter_example:\n",
    "    if os.path.exists(example_file_or_folder):\n",
    "        if os.path.isdir(example_file_or_folder):\n",
    "            rmtree(example_file_or_folder)\n",
    "        else:\n",
    "            os.remove(example_file_or_folder)"
   ]
  },
  {
   "cell_type": "markdown",
   "id": "subsequent-technology",
   "metadata": {},
   "source": [
    "The *Run_LatticeFinder.py* code begins below:"
   ]
  },
  {
   "cell_type": "markdown",
   "id": "immune-grenada",
   "metadata": {},
   "source": [
    "## A *Run_LatticeFinder.py* script for running LatticeFinder on an HCP crystal structure\n",
    "\n",
    "Below shows an example script for running LatticeFinder on an HCP crystal structure"
   ]
  },
  {
   "cell_type": "code",
   "execution_count": null,
   "id": "documented-travel",
   "metadata": {},
   "outputs": [],
   "source": [
    "from LatticeFinder import LatticeFinder_Program\n",
    "import numpy as np\n",
    "\n",
    "symbol = 'Au'\n",
    "lattice_type = 'HexagonalClosedPacked'\n",
    "\n",
    "#lattice_constant_parameters = {'a': (2.0,5.0,0.1), 'c': (3.0,6.0,0.1)}\n",
    "aa_list = np.arange(2.0,5.01,0.1)\n",
    "#aa_list = np.arange(2.8,3.0,0.001)\n",
    "cc_list = np.arange(3.0,6.01,0.1)\n",
    "#cc_list = np.arange(4.9,5.1,0.001)\n",
    "lattice_constant_parameters = {'a': aa_list, 'c': cc_list}\n",
    "\n",
    "calculator = 'VASP'\n",
    "slurm_information = {}\n",
    "slurm_information['project'] = 'uoo02568'\n",
    "slurm_information['time'] = '2:00:00'\n",
    "slurm_information['nodes'] = 1\n",
    "slurm_information['ntasks_per_node'] = 8\n",
    "slurm_information['mem-per-cpu'] = '3G'\n",
    "slurm_information['partition'] = 'large'\n",
    "slurm_information['email'] = 'geoffreywealslurmnotifications@gmail.com'\n",
    "slurm_information['python_version'] = 'Python/3.6.3-gimkl-2017a'\n",
    "slurm_information['vasp_version'] = 'VASP/5.4.4-intel-2017a'\n",
    "slurm_information['vasp_execution'] = 'vasp_std'\n",
    "\n",
    "slurm_information['Make individual or packet submitSL files'] = 'packets'\n",
    "slurm_information['Number of VASP calculations to run per packet'] = 25\n",
    "\n",
    "size=(1,1,1)\n",
    "\n",
    "directions=[]\n",
    "miller=[]\n",
    "\n",
    "limits = {'a': (2.5, 3.5), 'c': (4.0, 5.5)}\n",
    "make_svg_eps_files = False\n",
    "\n",
    "no_of_cpus=1"
   ]
  },
  {
   "cell_type": "markdown",
   "id": "great-coverage",
   "metadata": {},
   "source": [
    "[Back To Table of Contents](../../LatticeFinder_Jupyter_Example.ipynb)"
   ]
  },
  {
   "cell_type": "markdown",
   "id": "dressed-petite",
   "metadata": {},
   "source": [
    "## Run LatticeFinder!\n",
    "\n",
    "You have got to the end of all the parameter setting stuff. Now on to running LatticeFinder. The next part of the ``Run_LatticeFinder.py`` script tells LatticeFinder to run. This is written as follows in the ``Run_LatticeFinder.py``. This may take a bit of time to run. "
   ]
  },
  {
   "cell_type": "code",
   "execution_count": null,
   "id": "purple-generation",
   "metadata": {
    "scrolled": true
   },
   "outputs": [],
   "source": [
    "LatticeFinder_Program(symbol, lattice_type, lattice_constant_parameters, calculator, size=size, directions=directions, miller=miller, no_of_cpus=no_of_cpus, limits=limits, make_svg_eps_files=make_svg_eps_files, slurm_information=slurm_information)"
   ]
  },
  {
   "cell_type": "markdown",
   "id": "advance-rally",
   "metadata": {},
   "source": [
    "[Back To Table of Contents](../../LatticeFinder_Jupyter_Example.ipynb)"
   ]
  },
  {
   "cell_type": "markdown",
   "id": "handmade-stanford",
   "metadata": {},
   "source": [
    "## Post-processing data"
   ]
  },
  {
   "cell_type": "markdown",
   "id": "latin-virtue",
   "metadata": {},
   "source": [
    "Once LatticeFinder is finished, it prints out a bunch of files. These include:\n",
    "\n",
    "* png files that shows the energy of the Au crystal structure across various lattice constants, and the optimal lattice constant for the Au FCC crystal structure. \n",
    "* ``lattice_data.txt`` that includes the energies of the FCC crystal for the various lattice constant values\n",
    "* ``results_file.txt`` that shows some of the various results from performing the LatticeFinder program, such as the cohesive energy. \n",
    "\n",
    "See the file explorer on the right of this jupyter lab webpage to take a look at them. \n",
    "\n",
    "Below is an example of the energy vs lattice constants plots for the Au FCC crystal structure. "
   ]
  },
  {
   "cell_type": "code",
   "execution_count": null,
   "id": "dependent-central",
   "metadata": {},
   "outputs": [],
   "source": [
    "from IPython.display import Image\n",
    "Image(filename='Energy_Vs_Lattice_Constant.png') "
   ]
  },
  {
   "cell_type": "code",
   "execution_count": null,
   "id": "threaded-monkey",
   "metadata": {},
   "outputs": [],
   "source": [
    "Image(filename='Energy_Vs_Lattice_Constant_Contour.png') "
   ]
  },
  {
   "cell_type": "markdown",
   "id": "joint-semiconductor",
   "metadata": {},
   "source": [
    "[Back To Table of Contents](../../LatticeFinder_Jupyter_Example.ipynb)"
   ]
  }
 ],
 "metadata": {
  "kernelspec": {
   "display_name": "Python 3",
   "language": "python",
   "name": "python3"
  },
  "language_info": {
   "codemirror_mode": {
    "name": "ipython",
    "version": 3
   },
   "file_extension": ".py",
   "mimetype": "text/x-python",
   "name": "python",
   "nbconvert_exporter": "python",
   "pygments_lexer": "ipython3",
   "version": "3.9.2"
  }
 },
 "nbformat": 4,
 "nbformat_minor": 5
}
