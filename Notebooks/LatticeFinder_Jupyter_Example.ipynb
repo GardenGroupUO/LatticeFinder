{
 "cells": [
  {
   "cell_type": "markdown",
   "id": "dressed-england",
   "metadata": {},
   "source": [
    "# Examples of Running LatticeFinder"
   ]
  },
  {
   "cell_type": "markdown",
   "id": "serious-commander",
   "metadata": {},
   "source": [
    "![PyPI - Python Version](https://img.shields.io/pypi/pyversions/LatticeFinder)\n",
    "[![GitHub release (latest by date)](https://img.shields.io/github/v/release/GardenGroupUO/LatticeFinder)](https://github.com/GardenGroupUO/LatticeFinder)\n",
    "[![PyPI](https://img.shields.io/pypi/v/LatticeFinder)](https://pypi.org/project/LatticeFinder/)\n",
    "[![Conda](https://img.shields.io/conda/v/gardengroupuo/latticefinder)](https://anaconda.org/GardenGroupUO/latticefinder)\n",
    "[![Documentation Status](https://readthedocs.org/projects/latticefinder/badge/?version=latest)](https://latticefinder.readthedocs.io/en/latest/)\n",
    "![GitHub](https://img.shields.io/github/license/GardenGroupUO/LatticeFinder)"
   ]
  },
  {
   "cell_type": "markdown",
   "id": "oriented-moore",
   "metadata": {},
   "source": [
    "This Jupyter notebook contains a number of python scripts with annotations that can be used to learn about how to run LatticeFinder in order to obtain the lattice constants for a crystal lattice. \n",
    "\n",
    "Click on any of the following links to open up a new tab with a new Jupyter notebook that gives an example of using NISP. "
   ]
  },
  {
   "cell_type": "markdown",
   "id": "remarkable-franklin",
   "metadata": {},
   "source": [
    "## Examples that have not been completed (i.e. a lattice_data.txt file has not been obtained)\n",
    "\n",
    "[Basic Example](./Uncompleted_Examples/Basic_Example/Basic_Example.ipynb)\n",
    "\n",
    "[Manual Mode](./Uncompleted_Examples/Manual_Mode/Manual_Mode.ipynb)\n",
    "\n",
    "## Examples that have been completed (i.e do contain a lattice_data.txt file)\n",
    "\n",
    "[Basic Example (Completed)](./Completed_Examples/Basic_Example/Basic_Example.ipynb)\n",
    "\n",
    "[Manual Mode (Completed)](./Completed_Examples/Manual_Mode/Manual_Mode.ipynb)"
   ]
  },
  {
   "cell_type": "code",
   "execution_count": null,
   "id": "opposed-analyst",
   "metadata": {},
   "outputs": [],
   "source": []
  }
 ],
 "metadata": {
  "kernelspec": {
   "display_name": "Python 3",
   "language": "python",
   "name": "python3"
  },
  "language_info": {
   "codemirror_mode": {
    "name": "ipython",
    "version": 3
   },
   "file_extension": ".py",
   "mimetype": "text/x-python",
   "name": "python",
   "nbconvert_exporter": "python",
   "pygments_lexer": "ipython3",
   "version": "3.9.2"
  }
 },
 "nbformat": 4,
 "nbformat_minor": 5
}
