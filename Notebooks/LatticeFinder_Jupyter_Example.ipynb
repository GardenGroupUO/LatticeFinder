{
 "cells": [
  {
   "cell_type": "markdown",
   "id": "infectious-controversy",
   "metadata": {},
   "source": [
    "# Examples of Running LatticeFinder"
   ]
  },
  {
   "cell_type": "markdown",
   "id": "hearing-catholic",
   "metadata": {},
   "source": [
    "![PyPI - Python Version](https://img.shields.io/pypi/pyversions/LatticeFinder)\n",
    "[![GitHub release (latest by date)](https://img.shields.io/github/v/release/GardenGroupUO/LatticeFinder)](https://github.com/GardenGroupUO/LatticeFinder)\n",
    "[![PyPI](https://img.shields.io/pypi/v/LatticeFinder)](https://pypi.org/project/LatticeFinder/)\n",
    "[![Conda](https://img.shields.io/conda/v/gardengroupuo/latticefinder)](https://anaconda.org/GardenGroupUO/latticefinder)\n",
    "[![Documentation Status](https://readthedocs.org/projects/latticefinder/badge/?version=latest)](https://latticefinder.readthedocs.io/en/latest/)\n",
    "![GitHub](https://img.shields.io/github/license/GardenGroupUO/LatticeFinder)"
   ]
  },
  {
   "cell_type": "markdown",
   "id": "improving-magnitude",
   "metadata": {},
   "source": [
    "This Jupyter notebook contains a number of python scripts with annotations that can be used to learn about how to run LatticeFinder in order to obtain the lattice constants for a crystal lattice. \n",
    "\n",
    "Click on any of the following links to open up a new tab with a new Jupyter notebook that gives an example of using NISP. "
   ]
  },
  {
   "cell_type": "markdown",
   "id": "closing-sheet",
   "metadata": {},
   "source": [
    "## Examples that have not been completed (i.e. a lattice_data.txt file has not been obtained)\n",
    "\n",
    "[Basic Example](./Uncompleted_Examples/Basic_Example/Basic_Example.ipynb)\n",
    "\n",
    "[HCP_System_Simple](./Uncompleted_Examples/HCP_System_Simple/HCP_System_Simple.ipynb)\n",
    "\n",
    "## Examples that have been completed (i.e do contain a lattice_data.txt file)\n",
    "\n",
    "[HCP_System_Zoom_In (Completed)](./Completed_Examples/HCP_System_Zoom_In/HCP_System_Zoom_In.ipynb)\n",
    "\n",
    "[VASP_Au_FCC_Full (Completed)](./Completed_Examples/VASP_Au_FCC_Full/VASP_Au_FCC_Full.ipynb)\n",
    "\n",
    "[VASP_Au_HCP (Completed)](./Completed_Examples/VASP_Au_HCP/VASP_Au_HCP.ipynb)\n",
    "\n",
    "[VASP_Au_HCP_Zoomed_In (Completed)](./Completed_Examples/VASP_Au_HCP_Zoomed_In/VASP_Au_HCP_Zoomed_In.ipynb)"
   ]
  }
 ],
 "metadata": {
  "kernelspec": {
   "display_name": "Python 3",
   "language": "python",
   "name": "python3"
  },
  "language_info": {
   "codemirror_mode": {
    "name": "ipython",
    "version": 3
   },
   "file_extension": ".py",
   "mimetype": "text/x-python",
   "name": "python",
   "nbconvert_exporter": "python",
   "pygments_lexer": "ipython3",
   "version": "3.9.5"
  }
 },
 "nbformat": 4,
 "nbformat_minor": 5
}
