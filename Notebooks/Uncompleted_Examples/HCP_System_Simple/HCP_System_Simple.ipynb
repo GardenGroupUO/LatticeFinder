{
 "cells": [
  {
   "cell_type": "markdown",
   "id": "healthy-census",
   "metadata": {},
   "source": [
    "# An Example for obtaining the lattice constants of a crystal system with 2 lattice constants using LatticeFinder"
   ]
  },
  {
   "cell_type": "markdown",
   "id": "indirect-entrance",
   "metadata": {},
   "source": [
    "[Back To Table of Contents](../../LatticeFinder_Jupyter_Example.ipynb)"
   ]
  },
  {
   "cell_type": "markdown",
   "id": "retired-subject",
   "metadata": {},
   "source": [
    "In this example, we will be obtaining the lattice constant of a Au hexagonal close packing (HCP) crystal structure using the RGL potential, with RGL parameters from Baletto *et al.* [DOI: 10.1063/1.1448484](https://doi.org/10.1063/1.1448484). Below we will show an example of the *Run_LatticeFinder.py* file use to run LatticeFinder. \n",
    "\n",
    "To run this notebook step by step, press the $\\blacktriangleright$ button sequentially on the python code you want to run. You can find the $\\blacktriangleright$ button in the menu bar above. Make sure you have run $\\blacktriangleright$ on every cell before running the ``from LatticeFinder import LatticeFinder_Program`` execution cell. Equivalently, press the $\\blacktriangleright\\blacktriangleright$ button to completely run this *Run_LatticeFinder.py* file from beginning to end. You can also find the $\\blacktriangleright\\blacktriangleright$ button in the menu bar above. Jupyter will display a box that will ask you if you want to restart the kernal. Press the <img src=\"../../Images/Restart_button.svg\" alt=\"Restart_Button\" width=\"50\"/> button to run the full Jupyter notebook in Python. \n",
    "\n",
    "Note: These are the vanilla settings for running LatticeFinder on Au, but feel free to change the settings as you wish.\n",
    "\n",
    "Also note: This program makes files which are created and stored on the Binder server. If you want to rerun this example from scratch, you will need to remove these files. The following block code will do this. This is only needed for this notebook and is not apart of *Run_LatticeFinder.py* script."
   ]
  },
  {
   "cell_type": "code",
   "execution_count": 2,
   "id": "round-syracuse",
   "metadata": {},
   "outputs": [],
   "source": [
    "import os\n",
    "from shutil import rmtree\n",
    "to_be_removed_before_restarting_Jupyter_example = [file for file in os.listdir('.') if not (file.endswith('.ipynb') or file.startswith('VASP_Files'))]\n",
    "for example_file_or_folder in to_be_removed_before_restarting_Jupyter_example:\n",
    "    if os.path.exists(example_file_or_folder):\n",
    "        if os.path.isdir(example_file_or_folder):\n",
    "            rmtree(example_file_or_folder)\n",
    "        else:\n",
    "            os.remove(example_file_or_folder)"
   ]
  },
  {
   "cell_type": "markdown",
   "id": "popular-stylus",
   "metadata": {},
   "source": [
    "The *Run_LatticeFinder.py* code begins below:"
   ]
  },
  {
   "cell_type": "markdown",
   "id": "frozen-uruguay",
   "metadata": {},
   "source": [
    "## A *Run_LatticeFinder.py* script for running LatticeFinder on an HCP crystal structure\n",
    "\n",
    "Below shows an example script for running LatticeFinder on an HCP crystal structure"
   ]
  },
  {
   "cell_type": "code",
   "execution_count": 2,
   "id": "attached-hungary",
   "metadata": {},
   "outputs": [],
   "source": [
    "from LatticeFinder import LatticeFinder_Program\n",
    "\n",
    "symbol = 'Au'\n",
    "lattice_type = 'HexagonalClosedPacked'\n",
    "\n",
    "lattice_constant_parameters = {'a': (2.0,5.0,0.1), 'c': (3.0,6.0,0.1)}\n",
    "\n",
    "from asap3.Internal.BuiltinPotentials import Gupta\n",
    "# Parameter sequence: [p, q, a, xi, r0]\n",
    "r0 = 4.07/(2.0 ** 0.5)\n",
    "Au_parameters = {'Au': [10.53, 4.30, 0.2197, 1.855, r0]} # Baletto\n",
    "cutoff = 8\n",
    "calculator = Gupta(Au_parameters, cutoff=cutoff, debug=False)\n",
    "\n",
    "size_single = 28\n",
    "size=(size_single,size_single,size_single)\n",
    "\n",
    "directions=[]\n",
    "miller=[]\n",
    "\n",
    "limits = {'a': (2.6,3.2), 'c': (4.4,5.0)}\n",
    "no_of_cpus = 2"
   ]
  },
  {
   "cell_type": "markdown",
   "id": "liquid-athletics",
   "metadata": {},
   "source": [
    "[Back To Table of Contents](../../LatticeFinder_Jupyter_Example.ipynb)"
   ]
  },
  {
   "cell_type": "markdown",
   "id": "still-hungarian",
   "metadata": {},
   "source": [
    "## Run LatticeFinder!\n",
    "\n",
    "You have got to the end of all the parameter setting stuff. Now on to running LatticeFinder. The next part of the ``Run_LatticeFinder.py`` script tells LatticeFinder to run. This is written as follows in the ``Run_LatticeFinder.py``. This may take a bit of time to run. "
   ]
  },
  {
   "cell_type": "code",
   "execution_count": null,
   "id": "large-detection",
   "metadata": {
    "scrolled": true
   },
   "outputs": [
    {
     "name": "stdout",
     "output_type": "stream",
     "text": [
      "=========================================================\n",
      "\n",
      "            This is the LATTICEFINDER Program            \n",
      "            Version: 1.1.2.4\n",
      "\n",
      "=========================================================\n",
      "Input settings:\n",
      "\n",
      "symbol: Au\n",
      "lattice_type: HexagonalClosedPacked\n",
      "lattice_constant_parameters: []\n",
      "calculator: <asap.RGL object at 0x0x2dce720>\n",
      "size: (28, 28, 28)\n",
      "directions: []\n",
      "miller: []\n",
      "=========================================================\n",
      "Output settings:\n",
      "\n",
      "limits\n",
      "=========================================================\n",
      "Other settings:\n",
      "\n",
      "no_of_cpus: 2\n",
      "=========================================================\n",
      "===============================================================\n",
      "Getting data\n",
      "================================================================================\n",
      "{'a': 2.0, 'c': 3.0}\n",
      "Performing calculations upon Lattices\n",
      "{'a': 2.0, 'c': 3.1}\n",
      "{'a': 2.0, 'c': 3.2}\n",
      "{'a': 2.0, 'c': 3.3}\n",
      "{'a': 2.0, 'c': 3.4}\n",
      "{'a': 2.0, 'c': 3.5}\n",
      "{'a': 2.0, 'c': 3.6}\n",
      "{'a': 2.0, 'c': 3.7}\n",
      "{'a': 2.0, 'c': 3.8}\n",
      "{'a': 2.0, 'c': 3.9}\n",
      "{'a': 2.0, 'c': 4.0}\n",
      "{'a': 2.0, 'c': 4.1}\n",
      "{'a': 2.0, 'c': 4.2}\n",
      "{'a': 2.0, 'c': 4.3}\n"
     ]
    }
   ],
   "source": [
    "LatticeFinder_Program(symbol, lattice_type, lattice_constant_parameters, calculator, size=size, directions=directions, miller=miller, limits=limits, no_of_cpus=no_of_cpus)"
   ]
  },
  {
   "cell_type": "markdown",
   "id": "seventh-moment",
   "metadata": {},
   "source": [
    "[Back To Table of Contents](../../LatticeFinder_Jupyter_Example.ipynb)"
   ]
  },
  {
   "cell_type": "markdown",
   "id": "democratic-password",
   "metadata": {},
   "source": [
    "## Post-processing data"
   ]
  },
  {
   "cell_type": "markdown",
   "id": "sporting-delight",
   "metadata": {},
   "source": [
    "Once LatticeFinder is finished, it prints out a bunch of files. These include:\n",
    "\n",
    "* png files that shows the energy of the Au crystal structure across various lattice constants, and the optimal lattice constant for the Au FCC crystal structure. \n",
    "* ``lattice_data.txt`` that includes the energies of the FCC crystal for the various lattice constant values\n",
    "* ``results_file.txt`` that shows some of the various results from performing the LatticeFinder program, such as the cohesive energy. \n",
    "\n",
    "See the file explorer on the right of this jupyter lab webpage to take a look at them. \n",
    "\n",
    "Below is an example of the energy vs lattice constants plots for the Au FCC crystal structure. "
   ]
  },
  {
   "cell_type": "code",
   "execution_count": null,
   "id": "concrete-bench",
   "metadata": {},
   "outputs": [],
   "source": [
    "from IPython.display import Image\n",
    "Image(filename='Energy_Vs_Lattice_Constant.png') "
   ]
  },
  {
   "cell_type": "markdown",
   "id": "insured-phrase",
   "metadata": {},
   "source": [
    "[Back To Table of Contents](../../LatticeFinder_Jupyter_Example.ipynb)"
   ]
  }
 ],
 "metadata": {
  "kernelspec": {
   "display_name": "Python 3",
   "language": "python",
   "name": "python3"
  },
  "language_info": {
   "codemirror_mode": {
    "name": "ipython",
    "version": 3
   },
   "file_extension": ".py",
   "mimetype": "text/x-python",
   "name": "python",
   "nbconvert_exporter": "python",
   "pygments_lexer": "ipython3",
   "version": "3.9.5"
  }
 },
 "nbformat": 4,
 "nbformat_minor": 5
}
