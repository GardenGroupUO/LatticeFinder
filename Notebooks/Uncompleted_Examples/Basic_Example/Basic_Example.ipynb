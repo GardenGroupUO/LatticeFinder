{
 "cells": [
  {
   "cell_type": "markdown",
   "id": "juvenile-unemployment",
   "metadata": {},
   "source": [
    "# A Basic Example for obtaining the lattice constants of a crystal system using LatticeFinder"
   ]
  },
  {
   "cell_type": "markdown",
   "id": "virtual-technician",
   "metadata": {},
   "source": [
    "[Back To Table of Contents](../LatticeFinder_Jupyter_Example.ipynb)"
   ]
  },
  {
   "cell_type": "markdown",
   "id": "north-policy",
   "metadata": {},
   "source": [
    "In this example, we will be obtaining the lattice constant of a Au face centred cubic (FCC) crystal structure using the RGL potential, with RGL parameters from Baletto *et al.* [DOI: 10.1063/1.1448484](https://doi.org/10.1063/1.1448484). We will go through all the components of the *Run_LatticeFinder.py* files required to run LatticeFinder on Au, step by step. See [latticefinder.readthedocs.io/en/latest/How_To_Run_LatticeFinder](https://latticefinder.readthedocs.io/en/latest/How_To_Run_LatticeFinder.html) for more information on the *Run_LatticeFinder.py* file.\n",
    "\n",
    "To run this notebook step by step, press the $\\blacktriangleright$ button sequentially on the python code you want to run. You can find the $\\blacktriangleright$ button in the menu bar above. Make sure you have run $\\blacktriangleright$ on every cell before running the ``from LatticeFinder import LatticeFinder_Program`` execution cell. Equivalently, press the $\\blacktriangleright\\blacktriangleright$ button to completely run this *Run_LatticeFinder.py* file from beginning to end. You can also find the $\\blacktriangleright\\blacktriangleright$ button in the menu bar above. Jupyter will display a box that will ask you if you want to restart the kernal. Press the <img src=\"../Images/Restart_button.svg\" alt=\"Restart_Button\" width=\"50\"/> button to run the full Jupyter notebook in Python. \n",
    "\n",
    "Note: These are the vanilla settings for running LatticeFinder on Au, but feel free to change the settings as you wish.\n",
    "\n",
    "Also note: This program makes files which are created and stored on the Binder server. If you want to rerun this example from scratch, you will need to remove these files. The following block code will do this. This is only needed for this notebook and is not apart of *Run_LatticeFinder.py* script."
   ]
  },
  {
   "cell_type": "code",
   "execution_count": 1,
   "id": "recovered-component",
   "metadata": {},
   "outputs": [],
   "source": [
    "import os\n",
    "from shutil import rmtree\n",
    "to_be_removed_before_restarting_Jupyter_example = [file for file in os.listdir('.') if not (file.endswith('.ipynb') or file.startswith('VASP_Files'))]\n",
    "for example_file_or_folder in to_be_removed_before_restarting_Jupyter_example:\n",
    "    if os.path.exists(example_file_or_folder):\n",
    "        if os.path.isdir(example_file_or_folder):\n",
    "            rmtree(example_file_or_folder)\n",
    "        else:\n",
    "            os.remove(example_file_or_folder)"
   ]
  },
  {
   "cell_type": "markdown",
   "id": "noble-smith",
   "metadata": {},
   "source": [
    "The *Run.py* code begins below:"
   ]
  },
  {
   "cell_type": "markdown",
   "id": "vulnerable-sampling",
   "metadata": {},
   "source": [
    "## Importing LatticeFinder into script\n",
    "\n",
    "To begin, we need to import LatticeFinder into this *Run_LatticeFinder.py* script. Specifically, we want to import the ``LatticeFinder_Program`` into this *Run_LatticeFinder.py* script. We do this below:"
   ]
  },
  {
   "cell_type": "code",
   "execution_count": 2,
   "id": "bibliographic-telescope",
   "metadata": {},
   "outputs": [],
   "source": [
    "from LatticeFinder import LatticeFinder_Program"
   ]
  },
  {
   "cell_type": "markdown",
   "id": "italic-auckland",
   "metadata": {},
   "source": [
    "[Back To Table of Contents](../LatticeFinder_Jupyter_Example.ipynb)"
   ]
  },
  {
   "cell_type": "markdown",
   "id": "wrong-pottery",
   "metadata": {},
   "source": [
    "##  Input information requried by LatticeFinder\n",
    "\n",
    "The following information is required by LatticeFinder:\n",
    "\n",
    "* symbol (str.): This is the element that makes up your 2D/3D system.\n",
    "* lattice_type (str.): This is the type of lattice that you which to obtain the optimal lattice constants for. See Available crystal lattices in ASE for more information.\n",
    "* lattice_constant_parameters (list of floats): These are the values of the lattice constant(s) that you would like to examine. There are two ways that this can be entered into LatticeFinder:\n",
    "    * If you are locating the optimal lattice constant for a system that only contains one lattice constant, this can be entered in as a np.arange. For example, if you want to scan between a lattice constant of 3.0 Å to 5.0 Å in 0.1 Å segments, lattice_constant_parameters = np.arange(3.0,5.01,0.1). You can also have an irregular list. For example, if you want to look further between 3.8 Å and 4.5 Å in 0.01 segments, you can set lattice_constant_parameters = list(np.arange(3.0,3.8,0.1))+list(np.arange(3.8,4.5,0.01))+list(np.arange(4.5,5.01,0.1))\n",
    "    * If you are locating the optimal lattice constanta for a system that only contains two lattice constants, this must be entered as a list, where each key is the name of the lattice constant. For example, for a hexagonal closed packed crystal, you can set lattice_constant_parameters = {'a': np.arange(2.0,5.01,0.1), 'c': np.arange(3.0,6.01,0.1)}. The lists for each lattice constant must be regularly spaced; you can not use irregular spacing in LatticeFinder for system with more than one lattice constant.\n",
    "* calculator (ase.calculator/str.): The calculator is used to calculate the energy of the 2D/3D system at various lattice constants. See Calculators in ASE for information about how calculators works in ASE.\n",
    "    * You can also use VASP to perform DFT local optimisations on your clusters. Do this by setting calculator = 'VASP'. See How to perform LatticeFinder with VASP calculations to learn more about how to perform VASP calculations on clusters created using NISP.\n",
    "    * You can also elect to manually enter in the energies of the clusters. To do this, enter in calculator = 'Manual Mode'. See How to manually enter energy results into LatticeFinder for more information about how to manually enter in energies for clusters into LatticeFinder.\n",
    "* size (list of ints): This is the size of the system within a cell. See Usage in Lattices for more infotmation about the size parameter.\n",
    "* directions (list of ints): Still figuring this out. See Usage in Lattices for more infotmation about the directions parameter.\n",
    "* miller (list of ints): Still figuring this out. See Usage in Lattices for more infotmation about the miller parameter.\n",
    "* no_of_cpus (int): This is the number of cpus that you would like to use to perform calculations of 2D/3D system of various lattice constants.\n",
    "\n",
    "\n",
    "\n",
    "\n",
    "An example of these parameters in Interpolation_Script.py is given below:"
   ]
  },
  {
   "cell_type": "code",
   "execution_count": 3,
   "id": "creative-hopkins",
   "metadata": {},
   "outputs": [],
   "source": [
    "symbol = 'Au'\n",
    "lattice_type = 'FaceCenteredCubic'\n",
    "\n",
    "lattice_constant_parameters = (3.0,5.0,0.1)\n",
    "\n",
    "from asap3.Internal.BuiltinPotentials import Gupta\n",
    "# Parameter sequence: [p, q, a, xi, r0]\n",
    "r0 = 4.07/(2.0 ** 0.5)\n",
    "Au_parameters = {'Au': [10.53, 4.30, 0.2197, 1.855, r0]} # Baletto\n",
    "cutoff = 8\n",
    "calculator = Gupta(Au_parameters, cutoff=cutoff, debug=False)\n",
    "\n",
    "size=(16,16,16)\n",
    "\n",
    "directions=[]\n",
    "miller=[]\n",
    "\n",
    "limits = None\n",
    "\n",
    "no_of_cpus = 2"
   ]
  },
  {
   "cell_type": "markdown",
   "id": "fatty-lindsay",
   "metadata": {},
   "source": [
    "[Back To Table of Contents](../LatticeFinder_Jupyter_Example.ipynb)"
   ]
  },
  {
   "cell_type": "markdown",
   "id": "actual-opening",
   "metadata": {},
   "source": [
    "## Run LatticeFinder!\n",
    "\n",
    "You have got to the end of all the parameter setting stuff. Now on to running LatticeFinder. The next part of the ``Run_LatticeFinder.py`` script tells LatticeFinder to run. This is written as follows in the ``Run_LatticeFinder.py``. This may take a bit of time to run. "
   ]
  },
  {
   "cell_type": "code",
   "execution_count": 4,
   "id": "religious-report",
   "metadata": {
    "scrolled": true
   },
   "outputs": [
    {
     "name": "stdout",
     "output_type": "stream",
     "text": [
      "=========================================================\n",
      "\n",
      "            This is the LATTICEFINDER Program            \n",
      "            Version: 1.1.2.4\n",
      "\n",
      "=========================================================\n",
      "Input settings:\n",
      "\n",
      "symbol: Au\n",
      "lattice_type: FaceCenteredCubic\n",
      "lattice_constant_parameters: [3.0, 5.0, 0.1]\n",
      "calculator: <asap.RGL object at 0x0x7f902132c890>\n",
      "size: (16, 16, 16)\n",
      "directions: []\n",
      "miller: []\n",
      "=========================================================\n",
      "Output settings:\n",
      "\n",
      "limits\n",
      "=========================================================\n",
      "Other settings:\n",
      "\n",
      "no_of_cpus: 2\n",
      "=========================================================\n",
      "===============================================================\n",
      "Getting data\n",
      "================================================================================\n",
      "Performing calculations upon Lattices\n"
     ]
    },
    {
     "ename": "NameError",
     "evalue": "name 'calculator_ASE' is not defined",
     "output_type": "error",
     "traceback": [
      "\u001b[0;31m---------------------------------------------------------------------------\u001b[0m",
      "\u001b[0;31mRemoteTraceback\u001b[0m                           Traceback (most recent call last)",
      "\u001b[0;31mRemoteTraceback\u001b[0m: \n\"\"\"\nTraceback (most recent call last):\n  File \"/usr/local/Cellar/python@3.9/3.9.2_4/Frameworks/Python.framework/Versions/3.9/lib/python3.9/multiprocessing/pool.py\", line 125, in worker\n    result = (True, func(*args, **kwds))\n  File \"/Volumes/StorageSpace/GoogleDrive/PhDWork/Programs/LatticeFinder/LatticeFinder_v1.1.2.4/LatticeFinder/LatticeFinder/examining_lattice_constant_methods_with_ASE.py\", line 40, in get_energies_across_lattice_constants_ASE_single\n    bulk_system.set_calculator(calculator_ASE)\nNameError: name 'calculator_ASE' is not defined\n\"\"\"",
      "\nThe above exception was the direct cause of the following exception:\n",
      "\u001b[0;31mNameError\u001b[0m                                 Traceback (most recent call last)",
      "\u001b[0;32m<ipython-input-4-a5b49a169cba>\u001b[0m in \u001b[0;36m<module>\u001b[0;34m\u001b[0m\n\u001b[0;32m----> 1\u001b[0;31m \u001b[0mLatticeFinder_Program\u001b[0m\u001b[0;34m(\u001b[0m\u001b[0msymbol\u001b[0m\u001b[0;34m,\u001b[0m \u001b[0mlattice_type\u001b[0m\u001b[0;34m,\u001b[0m \u001b[0mlattice_constant_parameters\u001b[0m\u001b[0;34m,\u001b[0m \u001b[0mcalculator\u001b[0m\u001b[0;34m,\u001b[0m \u001b[0msize\u001b[0m\u001b[0;34m=\u001b[0m\u001b[0msize\u001b[0m\u001b[0;34m,\u001b[0m \u001b[0mdirections\u001b[0m\u001b[0;34m=\u001b[0m\u001b[0mdirections\u001b[0m\u001b[0;34m,\u001b[0m \u001b[0mmiller\u001b[0m\u001b[0;34m=\u001b[0m\u001b[0mmiller\u001b[0m\u001b[0;34m,\u001b[0m \u001b[0mlimits\u001b[0m\u001b[0;34m=\u001b[0m\u001b[0mlimits\u001b[0m\u001b[0;34m,\u001b[0m \u001b[0mno_of_cpus\u001b[0m\u001b[0;34m=\u001b[0m\u001b[0mno_of_cpus\u001b[0m\u001b[0;34m)\u001b[0m\u001b[0;34m\u001b[0m\u001b[0;34m\u001b[0m\u001b[0m\n\u001b[0m",
      "\u001b[0;32m/Volumes/StorageSpace/GoogleDrive/PhDWork/Programs/LatticeFinder/LatticeFinder_v1.1.2.4/LatticeFinder/LatticeFinder/LatticeFinder.py\u001b[0m in \u001b[0;36m__init__\u001b[0;34m(self, symbol, lattice_type, lattice_constant_parameters, calculator, size, directions, miller, limits, no_of_cpus, slurm_information)\u001b[0m\n\u001b[1;32m     26\u001b[0m                 \u001b[0mself\u001b[0m\u001b[0;34m.\u001b[0m\u001b[0mshow_initial_messages\u001b[0m\u001b[0;34m(\u001b[0m\u001b[0msymbol\u001b[0m\u001b[0;34m,\u001b[0m \u001b[0mlattice_type\u001b[0m\u001b[0;34m,\u001b[0m \u001b[0mlattice_constant_parameters\u001b[0m\u001b[0;34m,\u001b[0m \u001b[0mcalculator\u001b[0m\u001b[0;34m,\u001b[0m \u001b[0msize\u001b[0m\u001b[0;34m,\u001b[0m \u001b[0mdirections\u001b[0m\u001b[0;34m,\u001b[0m \u001b[0mmiller\u001b[0m\u001b[0;34m,\u001b[0m \u001b[0mlimits\u001b[0m\u001b[0;34m,\u001b[0m \u001b[0mno_of_cpus\u001b[0m\u001b[0;34m,\u001b[0m \u001b[0mslurm_information\u001b[0m\u001b[0;34m)\u001b[0m\u001b[0;34m\u001b[0m\u001b[0;34m\u001b[0m\u001b[0m\n\u001b[1;32m     27\u001b[0m                 \u001b[0;31m# Run the program\u001b[0m\u001b[0;34m\u001b[0m\u001b[0;34m\u001b[0m\u001b[0;34m\u001b[0m\u001b[0m\n\u001b[0;32m---> 28\u001b[0;31m                 \u001b[0mself\u001b[0m\u001b[0;34m.\u001b[0m\u001b[0mrun\u001b[0m\u001b[0;34m(\u001b[0m\u001b[0;34m)\u001b[0m\u001b[0;34m\u001b[0m\u001b[0;34m\u001b[0m\u001b[0m\n\u001b[0m\u001b[1;32m     29\u001b[0m \u001b[0;34m\u001b[0m\u001b[0m\n\u001b[1;32m     30\u001b[0m         \u001b[0;32mdef\u001b[0m \u001b[0mshow_initial_messages\u001b[0m\u001b[0;34m(\u001b[0m\u001b[0mself\u001b[0m\u001b[0;34m,\u001b[0m \u001b[0msymbol\u001b[0m\u001b[0;34m,\u001b[0m \u001b[0mlattice_type\u001b[0m\u001b[0;34m,\u001b[0m \u001b[0mlattice_constant_parameters\u001b[0m\u001b[0;34m,\u001b[0m \u001b[0mcalculator\u001b[0m\u001b[0;34m,\u001b[0m \u001b[0msize\u001b[0m\u001b[0;34m,\u001b[0m \u001b[0mdirections\u001b[0m\u001b[0;34m,\u001b[0m \u001b[0mmiller\u001b[0m\u001b[0;34m,\u001b[0m \u001b[0mlimits\u001b[0m\u001b[0;34m,\u001b[0m \u001b[0mno_of_cpus\u001b[0m\u001b[0;34m,\u001b[0m \u001b[0mslurm_information\u001b[0m\u001b[0;34m)\u001b[0m\u001b[0;34m:\u001b[0m\u001b[0;34m\u001b[0m\u001b[0;34m\u001b[0m\u001b[0m\n",
      "\u001b[0;32m/Volumes/StorageSpace/GoogleDrive/PhDWork/Programs/LatticeFinder/LatticeFinder_v1.1.2.4/LatticeFinder/LatticeFinder/LatticeFinder.py\u001b[0m in \u001b[0;36mrun\u001b[0;34m(self)\u001b[0m\n\u001b[1;32m    132\u001b[0m                 \u001b[0menergies_vs_lattice_constants\u001b[0m \u001b[0;34m=\u001b[0m \u001b[0mself\u001b[0m\u001b[0;34m.\u001b[0m\u001b[0msetup_energies_vs_lattice_constants\u001b[0m\u001b[0;34m(\u001b[0m\u001b[0;34m)\u001b[0m\u001b[0;34m\u001b[0m\u001b[0;34m\u001b[0m\u001b[0m\n\u001b[1;32m    133\u001b[0m                 \u001b[0;31m# Process the range of lattice constants and determine the minimum energy and lattice constant, as well as the projected lattice constant\u001b[0m\u001b[0;34m\u001b[0m\u001b[0;34m\u001b[0m\u001b[0;34m\u001b[0m\u001b[0m\n\u001b[0;32m--> 134\u001b[0;31m                 \u001b[0menergies_vs_lattice_constants\u001b[0m \u001b[0;34m=\u001b[0m \u001b[0mself\u001b[0m\u001b[0;34m.\u001b[0m\u001b[0mget_data\u001b[0m\u001b[0;34m(\u001b[0m\u001b[0menergies_vs_lattice_constants\u001b[0m\u001b[0;34m)\u001b[0m\u001b[0;34m\u001b[0m\u001b[0;34m\u001b[0m\u001b[0m\n\u001b[0m\u001b[1;32m    135\u001b[0m                 \u001b[0mself\u001b[0m\u001b[0;34m.\u001b[0m\u001b[0msort_data_file\u001b[0m\u001b[0;34m(\u001b[0m\u001b[0;34m)\u001b[0m\u001b[0;34m\u001b[0m\u001b[0;34m\u001b[0m\u001b[0m\n\u001b[1;32m    136\u001b[0m                 \u001b[0menergies_vs_lattice_constants\u001b[0m\u001b[0;34m,\u001b[0m \u001b[0menergy_vs_volumes\u001b[0m \u001b[0;34m=\u001b[0m \u001b[0mself\u001b[0m\u001b[0;34m.\u001b[0m\u001b[0mdivide_up_energies_and_volumes\u001b[0m\u001b[0;34m(\u001b[0m\u001b[0menergies_vs_lattice_constants\u001b[0m\u001b[0;34m)\u001b[0m\u001b[0;34m\u001b[0m\u001b[0;34m\u001b[0m\u001b[0m\n",
      "\u001b[0;32m/Volumes/StorageSpace/GoogleDrive/PhDWork/Programs/LatticeFinder/LatticeFinder_v1.1.2.4/LatticeFinder/LatticeFinder/LatticeFinder.py\u001b[0m in \u001b[0;36mget_data\u001b[0;34m(self, energies_vs_lattice_constants)\u001b[0m\n\u001b[1;32m    229\u001b[0m                         \u001b[0menergies_vs_lattice_constants\u001b[0m \u001b[0;34m=\u001b[0m \u001b[0mget_energies_across_lattice_constants_in_Manual_Mode\u001b[0m\u001b[0;34m(\u001b[0m\u001b[0mself\u001b[0m\u001b[0;34m.\u001b[0m\u001b[0mlattice_type\u001b[0m\u001b[0;34m,\u001b[0m\u001b[0mself\u001b[0m\u001b[0;34m.\u001b[0m\u001b[0msymbol\u001b[0m\u001b[0;34m,\u001b[0m\u001b[0mself\u001b[0m\u001b[0;34m.\u001b[0m\u001b[0mlattice_constant_generator\u001b[0m\u001b[0;34m,\u001b[0m\u001b[0mself\u001b[0m\u001b[0;34m.\u001b[0m\u001b[0msize\u001b[0m\u001b[0;34m,\u001b[0m\u001b[0mself\u001b[0m\u001b[0;34m.\u001b[0m\u001b[0mdirections\u001b[0m\u001b[0;34m,\u001b[0m\u001b[0mself\u001b[0m\u001b[0;34m.\u001b[0m\u001b[0mmiller\u001b[0m\u001b[0;34m,\u001b[0m\u001b[0mself\u001b[0m\u001b[0;34m.\u001b[0m\u001b[0mManual_Mode_Cluster_Folder\u001b[0m\u001b[0;34m)\u001b[0m\u001b[0;34m\u001b[0m\u001b[0;34m\u001b[0m\u001b[0m\n\u001b[1;32m    230\u001b[0m                 \u001b[0;32melse\u001b[0m\u001b[0;34m:\u001b[0m\u001b[0;34m\u001b[0m\u001b[0;34m\u001b[0m\u001b[0m\n\u001b[0;32m--> 231\u001b[0;31m                         \u001b[0menergies_vs_lattice_constants\u001b[0m \u001b[0;34m=\u001b[0m \u001b[0mget_energies_across_lattice_constants_ASE\u001b[0m\u001b[0;34m(\u001b[0m\u001b[0mself\u001b[0m\u001b[0;34m.\u001b[0m\u001b[0mlattice_type\u001b[0m\u001b[0;34m,\u001b[0m\u001b[0mself\u001b[0m\u001b[0;34m.\u001b[0m\u001b[0msymbol\u001b[0m\u001b[0;34m,\u001b[0m\u001b[0mself\u001b[0m\u001b[0;34m.\u001b[0m\u001b[0mlattice_constant_generator\u001b[0m\u001b[0;34m,\u001b[0m\u001b[0mself\u001b[0m\u001b[0;34m.\u001b[0m\u001b[0mlattice_constant_types\u001b[0m\u001b[0;34m,\u001b[0m\u001b[0mself\u001b[0m\u001b[0;34m.\u001b[0m\u001b[0msize\u001b[0m\u001b[0;34m,\u001b[0m\u001b[0mself\u001b[0m\u001b[0;34m.\u001b[0m\u001b[0mdirections\u001b[0m\u001b[0;34m,\u001b[0m\u001b[0mself\u001b[0m\u001b[0;34m.\u001b[0m\u001b[0mmiller\u001b[0m\u001b[0;34m,\u001b[0m\u001b[0mself\u001b[0m\u001b[0;34m.\u001b[0m\u001b[0mcalculator\u001b[0m\u001b[0;34m,\u001b[0m\u001b[0mself\u001b[0m\u001b[0;34m.\u001b[0m\u001b[0mno_of_cpus\u001b[0m\u001b[0;34m,\u001b[0m\u001b[0mself\u001b[0m\u001b[0;34m.\u001b[0m\u001b[0mlattice_data_file\u001b[0m\u001b[0;34m,\u001b[0m\u001b[0menergies_vs_lattice_constants\u001b[0m\u001b[0;34m)\u001b[0m\u001b[0;34m\u001b[0m\u001b[0;34m\u001b[0m\u001b[0m\n\u001b[0m\u001b[1;32m    232\u001b[0m                 \u001b[0mprint\u001b[0m\u001b[0;34m(\u001b[0m\u001b[0;34m'Finished getting data'\u001b[0m\u001b[0;34m)\u001b[0m\u001b[0;34m\u001b[0m\u001b[0;34m\u001b[0m\u001b[0m\n\u001b[1;32m    233\u001b[0m                 \u001b[0mprint\u001b[0m\u001b[0;34m(\u001b[0m\u001b[0;34m'==============================================================='\u001b[0m\u001b[0;34m)\u001b[0m\u001b[0;34m\u001b[0m\u001b[0;34m\u001b[0m\u001b[0m\n",
      "\u001b[0;32m/Volumes/StorageSpace/GoogleDrive/PhDWork/Programs/LatticeFinder/LatticeFinder_v1.1.2.4/LatticeFinder/LatticeFinder/examining_lattice_constant_methods_with_ASE.py\u001b[0m in \u001b[0;36mget_energies_across_lattice_constants_ASE\u001b[0;34m(lattice_type, symbol, lattice_constant_generator, lattice_constant_types, size, directions, miller, calculator, no_of_cpus, lattice_data_file, energies_vs_lattice_constants)\u001b[0m\n\u001b[1;32m     10\u001b[0m                 \u001b[0menergies_vs_lattice_constants\u001b[0m \u001b[0;34m=\u001b[0m \u001b[0mget_energies_across_lattice_constants_ASE_one_cpu\u001b[0m\u001b[0;34m(\u001b[0m\u001b[0mlattice_type\u001b[0m\u001b[0;34m,\u001b[0m\u001b[0msymbol\u001b[0m\u001b[0;34m,\u001b[0m\u001b[0mlattice_constant_generator\u001b[0m\u001b[0;34m,\u001b[0m\u001b[0mlattice_constant_types\u001b[0m\u001b[0;34m,\u001b[0m\u001b[0msize\u001b[0m\u001b[0;34m,\u001b[0m\u001b[0mdirections\u001b[0m\u001b[0;34m,\u001b[0m\u001b[0mmiller\u001b[0m\u001b[0;34m,\u001b[0m\u001b[0mlattice_data_file\u001b[0m\u001b[0;34m,\u001b[0m\u001b[0menergies_vs_lattice_constants\u001b[0m\u001b[0;34m)\u001b[0m\u001b[0;34m\u001b[0m\u001b[0;34m\u001b[0m\u001b[0m\n\u001b[1;32m     11\u001b[0m         \u001b[0;32melse\u001b[0m\u001b[0;34m:\u001b[0m\u001b[0;34m\u001b[0m\u001b[0;34m\u001b[0m\u001b[0m\n\u001b[0;32m---> 12\u001b[0;31m                 \u001b[0menergies_vs_lattice_constants\u001b[0m \u001b[0;34m=\u001b[0m \u001b[0mget_energies_across_lattice_constants_ASE_multi_cpu\u001b[0m\u001b[0;34m(\u001b[0m\u001b[0mlattice_type\u001b[0m\u001b[0;34m,\u001b[0m\u001b[0msymbol\u001b[0m\u001b[0;34m,\u001b[0m\u001b[0mlattice_constant_generator\u001b[0m\u001b[0;34m,\u001b[0m\u001b[0mlattice_constant_types\u001b[0m\u001b[0;34m,\u001b[0m\u001b[0msize\u001b[0m\u001b[0;34m,\u001b[0m\u001b[0mdirections\u001b[0m\u001b[0;34m,\u001b[0m\u001b[0mmiller\u001b[0m\u001b[0;34m,\u001b[0m\u001b[0mno_of_cpus\u001b[0m\u001b[0;34m,\u001b[0m\u001b[0mlattice_data_file\u001b[0m\u001b[0;34m,\u001b[0m\u001b[0menergies_vs_lattice_constants\u001b[0m\u001b[0;34m)\u001b[0m\u001b[0;34m\u001b[0m\u001b[0;34m\u001b[0m\u001b[0m\n\u001b[0m\u001b[1;32m     13\u001b[0m         \u001b[0mprint\u001b[0m\u001b[0;34m(\u001b[0m\u001b[0;34m'================================================================================'\u001b[0m\u001b[0;34m)\u001b[0m\u001b[0;34m\u001b[0m\u001b[0;34m\u001b[0m\u001b[0m\n\u001b[1;32m     14\u001b[0m         \u001b[0;32mreturn\u001b[0m \u001b[0menergies_vs_lattice_constants\u001b[0m\u001b[0;34m\u001b[0m\u001b[0;34m\u001b[0m\u001b[0m\n",
      "\u001b[0;32m/Volumes/StorageSpace/GoogleDrive/PhDWork/Programs/LatticeFinder/LatticeFinder_v1.1.2.4/LatticeFinder/LatticeFinder/examining_lattice_constant_methods_with_ASE.py\u001b[0m in \u001b[0;36mget_energies_across_lattice_constants_ASE_multi_cpu\u001b[0;34m(***failed resolving arguments***)\u001b[0m\n\u001b[1;32m    106\u001b[0m         \u001b[0;31m# collect results from the workers through the pool result queue\u001b[0m\u001b[0;34m\u001b[0m\u001b[0;34m\u001b[0m\u001b[0;34m\u001b[0m\u001b[0m\n\u001b[1;32m    107\u001b[0m         \u001b[0;32mfor\u001b[0m \u001b[0mjob\u001b[0m \u001b[0;32min\u001b[0m \u001b[0mjobs\u001b[0m\u001b[0;34m:\u001b[0m\u001b[0;34m\u001b[0m\u001b[0;34m\u001b[0m\u001b[0m\n\u001b[0;32m--> 108\u001b[0;31m                 \u001b[0mjob\u001b[0m\u001b[0;34m.\u001b[0m\u001b[0mget\u001b[0m\u001b[0;34m(\u001b[0m\u001b[0;34m)\u001b[0m\u001b[0;34m\u001b[0m\u001b[0;34m\u001b[0m\u001b[0m\n\u001b[0m\u001b[1;32m    109\u001b[0m         \u001b[0mprint\u001b[0m\u001b[0;34m(\u001b[0m\u001b[0;34m'Finished performing calculations upon Lattices'\u001b[0m\u001b[0;34m)\u001b[0m\u001b[0;34m\u001b[0m\u001b[0;34m\u001b[0m\u001b[0m\n\u001b[1;32m    110\u001b[0m         \u001b[0mprint\u001b[0m\u001b[0;34m(\u001b[0m\u001b[0;34m'Performing last finishing off pieces of work'\u001b[0m\u001b[0;34m)\u001b[0m\u001b[0;34m\u001b[0m\u001b[0;34m\u001b[0m\u001b[0m\n",
      "\u001b[0;32m/usr/local/Cellar/python@3.9/3.9.2_4/Frameworks/Python.framework/Versions/3.9/lib/python3.9/multiprocessing/pool.py\u001b[0m in \u001b[0;36mget\u001b[0;34m(self, timeout)\u001b[0m\n\u001b[1;32m    769\u001b[0m             \u001b[0;32mreturn\u001b[0m \u001b[0mself\u001b[0m\u001b[0;34m.\u001b[0m\u001b[0m_value\u001b[0m\u001b[0;34m\u001b[0m\u001b[0;34m\u001b[0m\u001b[0m\n\u001b[1;32m    770\u001b[0m         \u001b[0;32melse\u001b[0m\u001b[0;34m:\u001b[0m\u001b[0;34m\u001b[0m\u001b[0;34m\u001b[0m\u001b[0m\n\u001b[0;32m--> 771\u001b[0;31m             \u001b[0;32mraise\u001b[0m \u001b[0mself\u001b[0m\u001b[0;34m.\u001b[0m\u001b[0m_value\u001b[0m\u001b[0;34m\u001b[0m\u001b[0;34m\u001b[0m\u001b[0m\n\u001b[0m\u001b[1;32m    772\u001b[0m \u001b[0;34m\u001b[0m\u001b[0m\n\u001b[1;32m    773\u001b[0m     \u001b[0;32mdef\u001b[0m \u001b[0m_set\u001b[0m\u001b[0;34m(\u001b[0m\u001b[0mself\u001b[0m\u001b[0;34m,\u001b[0m \u001b[0mi\u001b[0m\u001b[0;34m,\u001b[0m \u001b[0mobj\u001b[0m\u001b[0;34m)\u001b[0m\u001b[0;34m:\u001b[0m\u001b[0;34m\u001b[0m\u001b[0;34m\u001b[0m\u001b[0m\n",
      "\u001b[0;31mNameError\u001b[0m: name 'calculator_ASE' is not defined"
     ]
    }
   ],
   "source": [
    "LatticeFinder_Program(symbol, lattice_type, lattice_constant_parameters, calculator, size=size, directions=directions, miller=miller, limits=limits, no_of_cpus=no_of_cpus)"
   ]
  },
  {
   "cell_type": "markdown",
   "id": "rocky-webcam",
   "metadata": {},
   "source": [
    "[Back To Table of Contents](../LatticeFinder_Jupyter_Example.ipynb)"
   ]
  },
  {
   "cell_type": "markdown",
   "id": "cleared-pharmaceutical",
   "metadata": {},
   "source": [
    "## Post-processing data"
   ]
  },
  {
   "cell_type": "markdown",
   "id": "packed-denial",
   "metadata": {},
   "source": [
    "Once NISP is finished, it prints out a bunch of files. These include:\n",
    "\n",
    "* png files that shows the interpolation of Au clusters\n",
    "* txt files that tell you how to remove atoms from the perfect close shell icosahedral, decahedral, and octahedral cluster to give the open shell clusters will the desired number of atoms.\n",
    "\n",
    "See the file explorer on the right of this jupyter lab webpage to take a look at them. \n",
    "\n",
    "Below is an example of one of the plots that you obtain from the interpolation scheme, where the green lines indicates the clusters of the sizes (no. of atoms) that you wanted to obtain closed and open shell clusters for. "
   ]
  },
  {
   "cell_type": "code",
   "execution_count": null,
   "id": "younger-turner",
   "metadata": {},
   "outputs": [],
   "source": [
    "from IPython.display import Image\n",
    "Image(filename='Au_Max_Size_1000_Interpolation_Scheme_with_lines.png') "
   ]
  },
  {
   "cell_type": "markdown",
   "id": "raising-somalia",
   "metadata": {},
   "source": [
    "[Back To Table of Contents](../LatticeFinder_Jupyter_Example.ipynb)"
   ]
  }
 ],
 "metadata": {
  "kernelspec": {
   "display_name": "Python 3",
   "language": "python",
   "name": "python3"
  },
  "language_info": {
   "codemirror_mode": {
    "name": "ipython",
    "version": 3
   },
   "file_extension": ".py",
   "mimetype": "text/x-python",
   "name": "python",
   "nbconvert_exporter": "python",
   "pygments_lexer": "ipython3",
   "version": "3.9.2"
  }
 },
 "nbformat": 4,
 "nbformat_minor": 5
}
