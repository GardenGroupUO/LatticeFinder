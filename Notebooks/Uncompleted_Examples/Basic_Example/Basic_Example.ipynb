{
 "cells": [
  {
   "cell_type": "markdown",
   "id": "dimensional-december",
   "metadata": {},
   "source": [
    "# A Basic Example for obtaining the lattice constants of a crystal system using LatticeFinder"
   ]
  },
  {
   "cell_type": "markdown",
   "id": "waiting-woman",
   "metadata": {},
   "source": [
    "[Back To Table of Contents](../../LatticeFinder_Jupyter_Example.ipynb)"
   ]
  },
  {
   "cell_type": "markdown",
   "id": "reliable-respect",
   "metadata": {},
   "source": [
    "In this example, we will be obtaining the lattice constant of a Au face centred cubic (FCC) crystal structure using the RGL potential, with RGL parameters from Baletto *et al.* [DOI: 10.1063/1.1448484](https://doi.org/10.1063/1.1448484). We will go through all the components of the *Run_LatticeFinder.py* files required to run LatticeFinder on Au, step by step. See [latticefinder.readthedocs.io/en/latest/How_To_Run_LatticeFinder](https://latticefinder.readthedocs.io/en/latest/How_To_Run_LatticeFinder.html) for more information on the *Run_LatticeFinder.py* file.\n",
    "\n",
    "To run this notebook step by step, press the $\\blacktriangleright$ button sequentially on the python code you want to run. You can find the $\\blacktriangleright$ button in the menu bar above. Make sure you have run $\\blacktriangleright$ on every cell before running the ``from LatticeFinder import LatticeFinder_Program`` execution cell. Equivalently, press the $\\blacktriangleright\\blacktriangleright$ button to completely run this *Run_LatticeFinder.py* file from beginning to end. You can also find the $\\blacktriangleright\\blacktriangleright$ button in the menu bar above. Jupyter will display a box that will ask you if you want to restart the kernal. Press the <img src=\"../../Images/Restart_button.svg\" alt=\"Restart_Button\" width=\"50\"/> button to run the full Jupyter notebook in Python. \n",
    "\n",
    "Note: These are the vanilla settings for running LatticeFinder on Au, but feel free to change the settings as you wish.\n",
    "\n",
    "Also note: This program makes files which are created and stored on the Binder server. If you want to rerun this example from scratch, you will need to remove these files. The following block code will do this. This is only needed for this notebook and is not apart of *Run_LatticeFinder.py* script."
   ]
  },
  {
   "cell_type": "code",
   "execution_count": null,
   "id": "several-secondary",
   "metadata": {},
   "outputs": [],
   "source": [
    "import os\n",
    "from shutil import rmtree\n",
    "to_be_removed_before_restarting_Jupyter_example = [file for file in os.listdir('.') if not (file.endswith('.ipynb') or file.startswith('VASP_Files'))]\n",
    "for example_file_or_folder in to_be_removed_before_restarting_Jupyter_example:\n",
    "    if os.path.exists(example_file_or_folder):\n",
    "        if os.path.isdir(example_file_or_folder):\n",
    "            rmtree(example_file_or_folder)\n",
    "        else:\n",
    "            os.remove(example_file_or_folder)"
   ]
  },
  {
   "cell_type": "markdown",
   "id": "sustainable-circular",
   "metadata": {},
   "source": [
    "The *Run_LatticeFinder.py* code begins below:"
   ]
  },
  {
   "cell_type": "markdown",
   "id": "reflected-georgia",
   "metadata": {},
   "source": [
    "## Importing LatticeFinder into script\n",
    "\n",
    "To begin, we need to import LatticeFinder into this *Run_LatticeFinder.py* script. Specifically, we want to import the ``LatticeFinder_Program`` into this *Run_LatticeFinder.py* script. We do this below:"
   ]
  },
  {
   "cell_type": "code",
   "execution_count": null,
   "id": "accessory-network",
   "metadata": {},
   "outputs": [],
   "source": [
    "from LatticeFinder import LatticeFinder_Program"
   ]
  },
  {
   "cell_type": "markdown",
   "id": "general-instrument",
   "metadata": {},
   "source": [
    "[Back To Table of Contents](../../LatticeFinder_Jupyter_Example.ipynb)"
   ]
  },
  {
   "cell_type": "markdown",
   "id": "liable-change",
   "metadata": {},
   "source": [
    "##  Input information requried by LatticeFinder\n",
    "\n",
    "The following information is required by LatticeFinder, and example of these parameters in *Run_LatticeFinder.py* is given below:\n",
    "\n",
    "* **symbol** (*str.*): This is the element that makes up your 2D/3D system.\n",
    "* **lattice_type** (*str.*): This is the type of lattice that you which to obtain the optimal lattice constants for. See Available crystal lattices in ASE for more information."
   ]
  },
  {
   "cell_type": "code",
   "execution_count": null,
   "id": "israeli-subscriber",
   "metadata": {},
   "outputs": [],
   "source": [
    "symbol = 'Au'\n",
    "lattice_type = 'FaceCenteredCubic'"
   ]
  },
  {
   "cell_type": "markdown",
   "id": "timely-graphics",
   "metadata": {},
   "source": [
    "* **lattice_constant_parameters** (*list of floats*): These are the values of the lattice constant(s) that you would like to examine. There are two ways that this can be entered into LatticeFinder:\n",
    "    * If you are locating the optimal lattice constant for a system that only contains one lattice constant, this can be entered in as a np.arange. For example, if you want to scan between a lattice constant of 3.0 Å to 5.0 Å in 0.1 Å segments, lattice_constant_parameters = np.arange(3.0,5.01,0.1). You can also have an irregular list. For example, if you want to look further*Run_LatticeFinder.py* between 3.8 Å and 4.5 Å in 0.01 segments, you can set lattice_constant_parameters = list(np.arange(3.0,3.8,0.1))+list(np.arange(3.8,4.5,0.01))+list(np.arange(4.5,5.01,0.1))\n",
    "    * If you are locating the optimal lattice constanta for a system that only contains two lattice constants, this must be entered as a list, where each key is the name of the lattice constant. For example, for a hexagonal closed packed crystal, you can set lattice_constant_parameters = {'a': np.arange(2.0,5.01,0.1), 'c': np.arange(3.0,6.01,0.1)}. The lists for each lattice constant must be regularly spaced; you can not use irregular spacing in LatticeFinder for system with more than one lattice constant.\n",
    "\n",
    "Some examples of the ``lattice_constant_parameters`` variable are given below. Try some of them out to get different results by uncommenting."
   ]
  },
  {
   "cell_type": "code",
   "execution_count": null,
   "id": "streaming-metropolitan",
   "metadata": {},
   "outputs": [],
   "source": [
    "lattice_constant_parameters = (3.0,5.0,0.1) # Broad overview\n",
    "#lattice_constant_parameters = list(np.arange(3.0,3.8,0.1))+list(np.arange(3.8,4.5,0.001))+list(np.arange(4.5,5.01,0.1)) # Broad overview with detail look at the low energy region of the potential energy surface.\n",
    "#lattice_constant_parameters = (3.6,4.6,0.001) # Detailed look at potential energy surface of this Au FCC crystal"
   ]
  },
  {
   "cell_type": "markdown",
   "id": "civil-lawrence",
   "metadata": {},
   "source": [
    "* **calculator** (*ase.calculator/str.*): The calculator is used to calculate the energy of the 2D/3D system at various lattice constants. See Calculators in ASE for information about how calculators works in ASE.\n",
    "    * You can also use VASP to perform DFT local optimisations on your clusters. Do this by setting calculator = 'VASP'. See How to perform LatticeFinder with VASP calculations to learn more about how to perform VASP calculations on clusters created using NISP.\n",
    "    * You can also elect to manually enter in the energies of the clusters. To do this, enter in calculator = 'Manual Mode'. See How to manually enter energy results into LatticeFinder for more information about how to manually enter in energies for clusters into LatticeFinder."
   ]
  },
  {
   "cell_type": "code",
   "execution_count": null,
   "id": "special-jefferson",
   "metadata": {},
   "outputs": [],
   "source": [
    "from asap3.Internal.BuiltinPotentials import Gupta\n",
    "# Parameter sequence: [p, q, a, xi, r0]\n",
    "r0 = 4.07/(2.0 ** 0.5)\n",
    "Au_parameters = {'Au': [10.53, 4.30, 0.2197, 1.855, r0]} # Baletto\n",
    "cutoff = 8\n",
    "calculator = Gupta(Au_parameters, cutoff=cutoff, debug=False)"
   ]
  },
  {
   "cell_type": "markdown",
   "id": "clinical-tribute",
   "metadata": {},
   "source": [
    "* **size** (*list of ints*): This is the size of the system within a cell. See Usage in Lattices for more infotmation about the size parameter.\n",
    "* **directions** (*list of ints*): Still figuring this out. See Usage in Lattices for more infotmation about the directions parameter.\n",
    "* **miller** (*list of ints*): Still figuring this out. See Usage in Lattices for more infotmation about the miller parameter.\n",
    "* **no_of_cpus** (*int*): This is the number of cpus that you would like to use to perform calculations of 2D/3D system of various lattice constants."
   ]
  },
  {
   "cell_type": "code",
   "execution_count": null,
   "id": "married-marker",
   "metadata": {},
   "outputs": [],
   "source": [
    "size=(16,16,16)\n",
    "\n",
    "directions=[]\n",
    "miller=[]\n",
    "\n",
    "limits = None\n",
    "\n",
    "no_of_cpus = 2"
   ]
  },
  {
   "cell_type": "markdown",
   "id": "numerical-dining",
   "metadata": {},
   "source": [
    "[Back To Table of Contents](../../LatticeFinder_Jupyter_Example.ipynb)"
   ]
  },
  {
   "cell_type": "markdown",
   "id": "valued-population",
   "metadata": {},
   "source": [
    "## Run LatticeFinder!\n",
    "\n",
    "You have got to the end of all the parameter setting stuff. Now on to running LatticeFinder. The next part of the ``Run_LatticeFinder.py`` script tells LatticeFinder to run. This is written as follows in the ``Run_LatticeFinder.py``. This may take a bit of time to run. "
   ]
  },
  {
   "cell_type": "code",
   "execution_count": null,
   "id": "dominican-manor",
   "metadata": {
    "scrolled": true
   },
   "outputs": [],
   "source": [
    "LatticeFinder_Program(symbol, lattice_type, lattice_constant_parameters, calculator, size=size, directions=directions, miller=miller, limits=limits, no_of_cpus=no_of_cpus)"
   ]
  },
  {
   "cell_type": "markdown",
   "id": "wound-junction",
   "metadata": {},
   "source": [
    "[Back To Table of Contents](../../LatticeFinder_Jupyter_Example.ipynb)"
   ]
  },
  {
   "cell_type": "markdown",
   "id": "honey-waters",
   "metadata": {},
   "source": [
    "## Post-processing data"
   ]
  },
  {
   "cell_type": "markdown",
   "id": "exclusive-bacon",
   "metadata": {},
   "source": [
    "Once LatticeFinder is finished, it prints out a bunch of files. These include:\n",
    "\n",
    "* png files that shows the energy of the Au crystal structure across various lattice constants, and the optimal lattice constant for the Au FCC crystal structure. \n",
    "* ``lattice_data.txt`` that includes the energies of the FCC crystal for the various lattice constant values\n",
    "* ``results_file.txt`` that shows some of the various results from performing the LatticeFinder program, such as the cohesive energy. \n",
    "\n",
    "See the file explorer on the right of this jupyter lab webpage to take a look at them. \n",
    "\n",
    "Below is an example of the energy vs lattice constants plots for the Au FCC crystal structure. "
   ]
  },
  {
   "cell_type": "code",
   "execution_count": null,
   "id": "automotive-assembly",
   "metadata": {},
   "outputs": [],
   "source": [
    "from IPython.display import Image\n",
    "Image(filename='Energy_Vs_Lattice_Constant.png') "
   ]
  },
  {
   "cell_type": "markdown",
   "id": "listed-korean",
   "metadata": {},
   "source": [
    "[Back To Table of Contents](../../LatticeFinder_Jupyter_Example.ipynb)"
   ]
  }
 ],
 "metadata": {
  "kernelspec": {
   "display_name": "Python 3",
   "language": "python",
   "name": "python3"
  },
  "language_info": {
   "codemirror_mode": {
    "name": "ipython",
    "version": 3
   },
   "file_extension": ".py",
   "mimetype": "text/x-python",
   "name": "python",
   "nbconvert_exporter": "python",
   "pygments_lexer": "ipython3",
   "version": "3.9.2"
  }
 },
 "nbformat": 4,
 "nbformat_minor": 5
}
